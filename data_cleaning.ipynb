{
 "cells": [
  {
   "cell_type": "code",
   "execution_count": 1,
   "id": "70684d36-f36c-4cf8-b861-c01cd8cfdc5b",
   "metadata": {},
   "outputs": [],
   "source": [
    "import pandas as pd"
   ]
  },
  {
   "cell_type": "code",
   "execution_count": 2,
   "id": "42b2227e-7fdd-4436-9ef3-c6a1678e1a8f",
   "metadata": {},
   "outputs": [],
   "source": [
    "df_data_historica= pd.read_csv('data/fifa_worldcup_matches.csv')\n",
    "df_missing_data = pd.read_csv('data/fifa_worldcup_missing_data.csv')\n",
    "df_fixture = pd.read_csv('data/fifa_worldcup_fixture.csv')"
   ]
  },
  {
   "cell_type": "code",
   "execution_count": 3,
   "id": "8e8bd349-0686-40c4-a8c6-57c385a52a16",
   "metadata": {},
   "outputs": [],
   "source": [
    "df_fixture['home'] = df_fixture['home'].str.strip() #Borra los espacios en blanco junto\n",
    "df_fixture['away'] = df_fixture['away'].str.strip()"
   ]
  },
  {
   "cell_type": "code",
   "execution_count": 4,
   "id": "291a7d11-9b09-4257-94c8-7c17f8d5ad00",
   "metadata": {},
   "outputs": [],
   "source": [
    "#df_missing_data[df_missing_data['home'].isnull()]\n",
    "df_missing_data.dropna(inplace=True)"
   ]
  },
  {
   "cell_type": "code",
   "execution_count": 5,
   "id": "a973e404-0744-49cc-a12c-a227fa4a59b5",
   "metadata": {},
   "outputs": [
    {
     "data": {
      "text/html": [
       "<div>\n",
       "<style scoped>\n",
       "    .dataframe tbody tr th:only-of-type {\n",
       "        vertical-align: middle;\n",
       "    }\n",
       "\n",
       "    .dataframe tbody tr th {\n",
       "        vertical-align: top;\n",
       "    }\n",
       "\n",
       "    .dataframe thead th {\n",
       "        text-align: right;\n",
       "    }\n",
       "</style>\n",
       "<table border=\"1\" class=\"dataframe\">\n",
       "  <thead>\n",
       "    <tr style=\"text-align: right;\">\n",
       "      <th></th>\n",
       "      <th>home</th>\n",
       "      <th>score</th>\n",
       "      <th>away</th>\n",
       "      <th>year</th>\n",
       "    </tr>\n",
       "  </thead>\n",
       "  <tbody>\n",
       "    <tr>\n",
       "      <th>0</th>\n",
       "      <td>France</td>\n",
       "      <td>4–1</td>\n",
       "      <td>Mexico</td>\n",
       "      <td>1930</td>\n",
       "    </tr>\n",
       "    <tr>\n",
       "      <th>17</th>\n",
       "      <td>Uruguay</td>\n",
       "      <td>4–2</td>\n",
       "      <td>Argentina</td>\n",
       "      <td>1930</td>\n",
       "    </tr>\n",
       "    <tr>\n",
       "      <th>16</th>\n",
       "      <td>Uruguay</td>\n",
       "      <td>6–1</td>\n",
       "      <td>Yugoslavia</td>\n",
       "      <td>1930</td>\n",
       "    </tr>\n",
       "    <tr>\n",
       "      <th>15</th>\n",
       "      <td>Argentina</td>\n",
       "      <td>6–1</td>\n",
       "      <td>United States</td>\n",
       "      <td>1930</td>\n",
       "    </tr>\n",
       "    <tr>\n",
       "      <th>14</th>\n",
       "      <td>Paraguay</td>\n",
       "      <td>1–0</td>\n",
       "      <td>Belgium</td>\n",
       "      <td>1930</td>\n",
       "    </tr>\n",
       "    <tr>\n",
       "      <th>...</th>\n",
       "      <td>...</td>\n",
       "      <td>...</td>\n",
       "      <td>...</td>\n",
       "      <td>...</td>\n",
       "    </tr>\n",
       "    <tr>\n",
       "      <th>419</th>\n",
       "      <td>Brazil</td>\n",
       "      <td>2–0</td>\n",
       "      <td>Costa Rica</td>\n",
       "      <td>2018</td>\n",
       "    </tr>\n",
       "    <tr>\n",
       "      <th>420</th>\n",
       "      <td>Serbia</td>\n",
       "      <td>1–2</td>\n",
       "      <td>Switzerland</td>\n",
       "      <td>2018</td>\n",
       "    </tr>\n",
       "    <tr>\n",
       "      <th>421</th>\n",
       "      <td>Serbia</td>\n",
       "      <td>0–2</td>\n",
       "      <td>Brazil</td>\n",
       "      <td>2018</td>\n",
       "    </tr>\n",
       "    <tr>\n",
       "      <th>408</th>\n",
       "      <td>France</td>\n",
       "      <td>1–0</td>\n",
       "      <td>Peru</td>\n",
       "      <td>2018</td>\n",
       "    </tr>\n",
       "    <tr>\n",
       "      <th>450</th>\n",
       "      <td>Brazil</td>\n",
       "      <td>1–2</td>\n",
       "      <td>Belgium</td>\n",
       "      <td>2018</td>\n",
       "    </tr>\n",
       "  </tbody>\n",
       "</table>\n",
       "<p>901 rows × 4 columns</p>\n",
       "</div>"
      ],
      "text/plain": [
       "           home score            away  year\n",
       "0       France    4–1          Mexico  1930\n",
       "17     Uruguay    4–2       Argentina  1930\n",
       "16     Uruguay    6–1      Yugoslavia  1930\n",
       "15   Argentina    6–1   United States  1930\n",
       "14    Paraguay    1–0         Belgium  1930\n",
       "..          ...   ...             ...   ...\n",
       "419     Brazil    2–0      Costa Rica  2018\n",
       "420     Serbia    1–2     Switzerland  2018\n",
       "421     Serbia    0–2          Brazil  2018\n",
       "408     France    1–0            Peru  2018\n",
       "450     Brazil    1–2         Belgium  2018\n",
       "\n",
       "[901 rows x 4 columns]"
      ]
     },
     "execution_count": 5,
     "metadata": {},
     "output_type": "execute_result"
    }
   ],
   "source": [
    "df_data_historica = pd.concat([df_data_historica, df_missing_data], ignore_index=True)\n",
    "df_data_historica.drop_duplicates(inplace=True)  #borra duplicados\n",
    "df_data_historica.sort_values('year', inplace=True) #ordena el df basado en la columna deseada\n",
    "df_data_historica"
   ]
  },
  {
   "cell_type": "code",
   "execution_count": 6,
   "id": "8acf5139-ce9f-48f7-af45-78daa084d8f4",
   "metadata": {},
   "outputs": [
    {
     "data": {
      "text/html": [
       "<div>\n",
       "<style scoped>\n",
       "    .dataframe tbody tr th:only-of-type {\n",
       "        vertical-align: middle;\n",
       "    }\n",
       "\n",
       "    .dataframe tbody tr th {\n",
       "        vertical-align: top;\n",
       "    }\n",
       "\n",
       "    .dataframe thead th {\n",
       "        text-align: right;\n",
       "    }\n",
       "</style>\n",
       "<table border=\"1\" class=\"dataframe\">\n",
       "  <thead>\n",
       "    <tr style=\"text-align: right;\">\n",
       "      <th></th>\n",
       "      <th>home</th>\n",
       "      <th>score</th>\n",
       "      <th>away</th>\n",
       "      <th>year</th>\n",
       "    </tr>\n",
       "  </thead>\n",
       "  <tbody>\n",
       "    <tr>\n",
       "      <th>37</th>\n",
       "      <td>Sweden</td>\n",
       "      <td>w/o[a]</td>\n",
       "      <td>Austria</td>\n",
       "      <td>1938</td>\n",
       "    </tr>\n",
       "  </tbody>\n",
       "</table>\n",
       "</div>"
      ],
      "text/plain": [
       "       home   score      away  year\n",
       "37  Sweden   w/o[a]   Austria  1938"
      ]
     },
     "execution_count": 6,
     "metadata": {},
     "output_type": "execute_result"
    }
   ],
   "source": [
    "df_data_historica[df_data_historica['home'].str.contains('Sweden') & df_data_historica['away'].str.contains('Austria')]"
   ]
  },
  {
   "cell_type": "code",
   "execution_count": 7,
   "id": "d3d07dc7-fb74-4c7c-9038-19393a4c508b",
   "metadata": {},
   "outputs": [],
   "source": [
    "index_delete = df_data_historica[df_data_historica['score'].str.contains('w')].index"
   ]
  },
  {
   "cell_type": "code",
   "execution_count": 8,
   "id": "2cf10183-9908-43d6-98cd-a94000f351a5",
   "metadata": {},
   "outputs": [],
   "source": [
    "df_data_historica.drop(index=index_delete, inplace=True)"
   ]
  },
  {
   "cell_type": "code",
   "execution_count": null,
   "id": "c43ed8a1-b0cb-48cf-99a3-52a8fe7144c8",
   "metadata": {},
   "outputs": [],
   "source": [
    "#df_data_historica[df_data_historica['score'].str.contains('[^\\d–]')] #[^\\d–] Encuentra caracteres que no sean dígitos o –"
   ]
  },
  {
   "cell_type": "code",
   "execution_count": 41,
   "id": "ce81cbda-452c-4bc6-85fa-bc038e9d6465",
   "metadata": {},
   "outputs": [],
   "source": [
    "df_data_historica['score'] = df_data_historica['score'].str.replace('[^\\d–]', '', regex=True)"
   ]
  },
  {
   "cell_type": "code",
   "execution_count": 43,
   "id": "98d3ba5d-c837-4493-a4c1-42d1609de638",
   "metadata": {},
   "outputs": [],
   "source": [
    "df_data_historica['home'] = df_data_historica['home'].str.strip()\n",
    "df_data_historica['away'] = df_data_historica['away'].str.strip()"
   ]
  },
  {
   "cell_type": "code",
   "execution_count": 48,
   "id": "6d1a593c-bba9-4af8-ac12-851101dff5cc",
   "metadata": {},
   "outputs": [],
   "source": [
    "df_data_historica[['GoalsHome', 'GoalsAway']] = df_data_historica['score'].str.split('–', expand=True)"
   ]
  },
  {
   "cell_type": "code",
   "execution_count": 56,
   "id": "d1c4e04c-05ff-4295-9614-49d889617290",
   "metadata": {},
   "outputs": [],
   "source": [
    "df_data_historica.drop('score'. axis=1, inplace)"
   ]
  },
  {
   "cell_type": "code",
   "execution_count": 59,
   "id": "033b4579-12d9-4ea4-86a4-918b411331e3",
   "metadata": {},
   "outputs": [],
   "source": [
    "df_data_historica.rename(columns={'home':'HomeTeam', 'away':'Away','year':'Year'}, inplace=True)"
   ]
  },
  {
   "cell_type": "code",
   "execution_count": 72,
   "id": "699ad580-572c-4d36-80ab-af0b0c1b2aef",
   "metadata": {},
   "outputs": [],
   "source": [
    "df_data_historica = df_data_historica.astype({'GoalsHome':int , 'GoalsAway':int})"
   ]
  },
  {
   "cell_type": "code",
   "execution_count": 73,
   "id": "8af68a0b-06ac-4fb6-8dcc-314c49c9a407",
   "metadata": {},
   "outputs": [
    {
     "data": {
      "text/plain": [
       "HomeTeam     object\n",
       "Away         object\n",
       "Year          int64\n",
       "GoalsHome     int32\n",
       "GoalsAway     int32\n",
       "dtype: object"
      ]
     },
     "execution_count": 73,
     "metadata": {},
     "output_type": "execute_result"
    }
   ],
   "source": [
    "df_data_historica.dtypes"
   ]
  },
  {
   "cell_type": "code",
   "execution_count": 74,
   "id": "8d666070-a504-4ef2-b7ce-af00c40a2f24",
   "metadata": {},
   "outputs": [],
   "source": [
    "df_data_historica.to_csv('clean_fifa_worldcup_matches.csv', index=False)\n",
    "df_fixture.to_csv('clean_fifa_worldcup_fixture.csv', index=False)"
   ]
  },
  {
   "cell_type": "code",
   "execution_count": 76,
   "id": "d871a140-6904-4971-9210-efc1d4d45f4e",
   "metadata": {},
   "outputs": [
    {
     "name": "stdout",
     "output_type": "stream",
     "text": [
      "1930 18\n",
      "1934 17\n",
      "1938 18\n",
      "1950 22\n",
      "1954 26\n",
      "1958 35\n",
      "1962 32\n",
      "1966 32\n",
      "1970 32\n",
      "1974 38\n",
      "1978 38\n",
      "1982 52\n",
      "1986 52\n",
      "1990 52\n",
      "1994 52\n",
      "1998 64\n",
      "2002 64\n",
      "2006 64\n",
      "2010 64\n",
      "2014 64\n",
      "2018 64\n"
     ]
    }
   ],
   "source": [
    "# verify number of matches per competition\n",
    "years = [1930, 1934, 1938, 1950, 1954, 1958, 1962, 1966, 1970, 1974,\n",
    "         1978, 1982, 1986, 1990, 1994, 1998, 2002, 2006, 2010, 2014,\n",
    "         2018]\n",
    "\n",
    "for year in years:\n",
    "    print(year, len(df_data_historica[df_data_historica['Year']==year]))"
   ]
  },
  {
   "cell_type": "code",
   "execution_count": null,
   "id": "64da3caf-3644-4931-b4e6-cbb4d2ca73fe",
   "metadata": {},
   "outputs": [],
   "source": []
  }
 ],
 "metadata": {
  "kernelspec": {
   "display_name": "Python 3 (ipykernel)",
   "language": "python",
   "name": "python3"
  },
  "language_info": {
   "codemirror_mode": {
    "name": "ipython",
    "version": 3
   },
   "file_extension": ".py",
   "mimetype": "text/x-python",
   "name": "python",
   "nbconvert_exporter": "python",
   "pygments_lexer": "ipython3",
   "version": "3.11.7"
  }
 },
 "nbformat": 4,
 "nbformat_minor": 5
}
